{
 "cells": [
  {
   "cell_type": "markdown",
   "id": "b4c537e6-4850-4b88-b6fc-5627016f62d0",
   "metadata": {},
   "source": [
    "# Data Science Tools and Ecosystem."
   ]
  },
  {
   "cell_type": "markdown",
   "id": "64d3c0be-2b04-4d84-95d1-58c07a691120",
   "metadata": {},
   "source": [
    "### In this notebook, Data Science Tools and Ecosystem are summarized"
   ]
  },
  {
   "cell_type": "markdown",
   "id": "9e2ee9b0-d151-4a7b-b3fa-ffcaff265c9f",
   "metadata": {},
   "source": [
    "**Objetivos:**\n",
    "\n",
    "- Enumerar los lenguajes populares para la Ciencia de Datos.\n",
    "- Identificar las bibliotecas comúnmente utilizadas en la Ciencia de Datos.\n",
    "- Demostrar herramientas para la Ciencia de Datos.\n",
    "- Evaluar expresiones aritméticas en Python.\n",
    "- Convertir minutos a horas.\n"
   ]
  },
  {
   "cell_type": "markdown",
   "id": "7d25863e-5f34-44bf-9ea2-72abcf87fb55",
   "metadata": {},
   "source": [
    "# Autor\n",
    "Carlos Enrique Ramos Arias"
   ]
  },
  {
   "cell_type": "markdown",
   "id": "c21ba14b-f985-45d6-92eb-08a509474791",
   "metadata": {},
   "source": [
    "#### Some of the popular languages that Data Scientists use are:\n",
    "\n",
    "1. SQL\n",
    "2. Python \n",
    "3. R\n",
    "4. Scala\n",
    "5. Julia\n"
   ]
  },
  {
   "cell_type": "markdown",
   "id": "dbfd1e7f-f094-43d4-a756-6634c350ed0f",
   "metadata": {},
   "source": [
    "#### Some of the commonly used libraries used by Data Scientists include:\n",
    "\n",
    "1. Pandas\n",
    "2. NumPy\n",
    "3. Matplotlib\n",
    "4. Scikit-learn\n",
    "5. TensorFlow"
   ]
  },
  {
   "cell_type": "markdown",
   "id": "d060e66b-6d10-42e4-9662-2d163df36d38",
   "metadata": {},
   "source": [
    "| Data Science Tools |\n",
    "|--------------------|\n",
    "|  Jupyter Notebook  |\n",
    "|  Apache Zeppelin   | \n",
    "|  RStudio           |\n"
   ]
  },
  {
   "cell_type": "markdown",
   "id": "37827d53-b55b-4978-a4a0-1d58e27ee4ad",
   "metadata": {
    "jp-MarkdownHeadingCollapsed": true
   },
   "source": [
    "### Below are a few examples of evaluating arithmetic expressions in Python\n",
    "\n",
    "- Suma: `5 + 5` da como resultado `10`\n",
    "- Resta: `10 - 2` da como resultado `8`\n",
    "- Multiplicación: `4 * 3` da como resultado `12`\n",
    "- División: `16 / 2` da como resultado `8`\n"
   ]
  },
  {
   "cell_type": "markdown",
   "id": "e67e8894-db97-4b67-b942-060106f85212",
   "metadata": {},
   "source": []
  },
  {
   "cell_type": "markdown",
   "id": "4e046e19-9ba2-4313-8dfb-88ae3dc76ca0",
   "metadata": {},
   "source": []
  },
  {
   "cell_type": "markdown",
   "id": "5760a28a-10f6-4efe-9985-53c8f72499a2",
   "metadata": {},
   "source": []
  },
  {
   "cell_type": "markdown",
   "id": "8bb2ab06-2942-4774-b4ef-72afa3b8b1db",
   "metadata": {},
   "source": [
    "# This a simple arithmetic expression to mutiply then add integers\n",
    "resultado = (3 * 4)  + 5\n",
    "\n",
    "resultado "
   ]
  },
  {
   "cell_type": "markdown",
   "id": "d9c95d07-7d65-42c1-9b92-95f6c7e898b8",
   "metadata": {},
   "source": [
    "17"
   ]
  },
  {
   "cell_type": "markdown",
   "id": "18bc6afb-954b-4b3d-acbe-bbd346843d83",
   "metadata": {},
   "source": [
    "\n",
    "# This will convert 200 minutes to hours by diving by 60\n",
    "minutos = 200\n",
    "horas = (minutos / 60)\n",
    "horas\n"
   ]
  },
  {
   "cell_type": "code",
   "execution_count": null,
   "id": "c9c00290-5299-4132-8e5f-2918b0dec631",
   "metadata": {},
   "outputs": [],
   "source": [
    "3.333333333"
   ]
  },
  {
   "cell_type": "code",
   "execution_count": null,
   "id": "923b4394-6fb6-4cd6-b2c8-65d12acd499e",
   "metadata": {},
   "outputs": [],
   "source": []
  }
 ],
 "metadata": {
  "kernelspec": {
   "display_name": "Python 3 (ipykernel)",
   "language": "python",
   "name": "python3"
  },
  "language_info": {
   "codemirror_mode": {
    "name": "ipython",
    "version": 3
   },
   "file_extension": ".py",
   "mimetype": "text/x-python",
   "name": "python",
   "nbconvert_exporter": "python",
   "pygments_lexer": "ipython3",
   "version": "3.11.9"
  }
 },
 "nbformat": 4,
 "nbformat_minor": 5
}
